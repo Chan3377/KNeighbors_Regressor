{
  "cells": [
    {
      "cell_type": "markdown",
      "metadata": {
        "id": "view-in-github",
        "colab_type": "text"
      },
      "source": [
        "<a href=\"https://colab.research.google.com/github/Chan3377/KNeighbors_Regressor/blob/main/KNeighborsRegressor_Hands_on.ipynb\" target=\"_parent\"><img src=\"https://colab.research.google.com/assets/colab-badge.svg\" alt=\"Open In Colab\"/></a>"
      ]
    },
    {
      "cell_type": "markdown",
      "id": "6f4a020a",
      "metadata": {
        "id": "6f4a020a"
      },
      "source": [
        "# K-Nearest Neighbors Regressor - Theory with a practical example"
      ]
    },
    {
      "cell_type": "markdown",
      "id": "9737f0ee",
      "metadata": {
        "id": "9737f0ee"
      },
      "source": [
        "### Importing the necessary libraries"
      ]
    },
    {
      "cell_type": "code",
      "execution_count": null,
      "id": "3f9424ee",
      "metadata": {
        "id": "3f9424ee"
      },
      "outputs": [],
      "source": [
        "# Will help us generate the regression\n",
        "from sklearn.datasets import make_regression\n",
        "# Will help us create the KNN regression model\n",
        "from sklearn.neighbors import KNeighborsRegressor\n",
        "\n",
        "# Will help us visualize the results\n",
        "import matplotlib.pyplot as plt\n",
        "import seaborn as sns"
      ]
    },
    {
      "cell_type": "markdown",
      "id": "4d315966",
      "metadata": {
        "id": "4d315966"
      },
      "source": [
        "### Generating the database"
      ]
    },
    {
      "cell_type": "code",
      "execution_count": null,
      "id": "0b243e01",
      "metadata": {
        "id": "0b243e01"
      },
      "outputs": [],
      "source": [
        "# Create a linear regression with 10 samples and a single feature.\n",
        "# Introduce some noise in the data\n",
        "# Set a random state, so that each run produces the same regression\n",
        "inputs, target = make_regression(n_samples = 10,\n",
        "                                 n_features = 1,\n",
        "                                 noise = 15,\n",
        "                                 random_state = 365)"
      ]
    },
    {
      "cell_type": "code",
      "execution_count": null,
      "id": "1cb3f3e2",
      "metadata": {
        "id": "1cb3f3e2"
      },
      "outputs": [],
      "source": [
        "# Since the dataset is randomly generated, we are free to modify it at our will.\n",
        "# Here, I divide the target values just to make the numbers in the dataset smaller.\n",
        "# Note, this is not something you would do with a real dataset!\n",
        "target = target/40"
      ]
    },
    {
      "cell_type": "markdown",
      "id": "30ed6c1e",
      "metadata": {
        "id": "30ed6c1e"
      },
      "source": [
        "### Plotting the database"
      ]
    },
    {
      "cell_type": "code",
      "execution_count": null,
      "id": "e7b849b4",
      "metadata": {
        "id": "e7b849b4",
        "outputId": "480b50f6-9fae-4181-b868-f5728a164fca"
      },
      "outputs": [
        {
          "data": {
            "image/png": "[encoded data removed]",
            "text/plain": [
              "<Figure size 640x480 with 1 Axes>"
            ]
          },
          "metadata": {},
          "output_type": "display_data"
        }
      ],
      "source": [
        "# Set the seaborn visualization\n",
        "sns.set()\n",
        "\n",
        "# Plot the dataset\n",
        "plt.scatter(inputs, target);"
      ]
    },
    {
      "cell_type": "markdown",
      "id": "edcfd441",
      "metadata": {
        "id": "edcfd441"
      },
      "source": [
        "### Creating the model"
      ]
    },
    {
      "cell_type": "code",
      "execution_count": null,
      "id": "ed4c9647",
      "metadata": {
        "id": "ed4c9647",
        "outputId": "978dccb8-92e1-48f1-f4e8-a78b4723ec1c"
      },
      "outputs": [
        {
          "data": {
            "text/html": [
              "<style>#sk-container-id-3 {color: black;}#sk-container-id-3 pre{padding: 0;}#sk-container-id-3 div.sk-toggleable {background-color: white;}#sk-container-id-3 label.sk-toggleable__label {cursor: pointer;display: block;width: 100%;margin-bottom: 0;padding: 0.3em;box-sizing: border-box;text-align: center;}#sk-container-id-3 label.sk-toggleable__label-arrow:before {content: \"▸\";float: left;margin-right: 0.25em;color: #696969;}#sk-container-id-3 label.sk-toggleable__label-arrow:hover:before {color: black;}#sk-container-id-3 div.sk-estimator:hover label.sk-toggleable__label-arrow:before {color: black;}#sk-container-id-3 div.sk-toggleable__content {max-height: 0;max-width: 0;overflow: hidden;text-align: left;background-color: #f0f8ff;}#sk-container-id-3 div.sk-toggleable__content pre {margin: 0.2em;color: black;border-radius: 0.25em;background-color: #f0f8ff;}#sk-container-id-3 input.sk-toggleable__control:checked~div.sk-toggleable__content {max-height: 200px;max-width: 100%;overflow: auto;}#sk-container-id-3 input.sk-toggleable__control:checked~label.sk-toggleable__label-arrow:before {content: \"▾\";}#sk-container-id-3 div.sk-estimator input.sk-toggleable__control:checked~label.sk-toggleable__label {background-color: #d4ebff;}#sk-container-id-3 div.sk-label input.sk-toggleable__control:checked~label.sk-toggleable__label {background-color: #d4ebff;}#sk-container-id-3 input.sk-hidden--visually {border: 0;clip: rect(1px 1px 1px 1px);clip: rect(1px, 1px, 1px, 1px);height: 1px;margin: -1px;overflow: hidden;padding: 0;position: absolute;width: 1px;}#sk-container-id-3 div.sk-estimator {font-family: monospace;background-color: #f0f8ff;border: 1px dotted black;border-radius: 0.25em;box-sizing: border-box;margin-bottom: 0.5em;}#sk-container-id-3 div.sk-estimator:hover {background-color: #d4ebff;}#sk-container-id-3 div.sk-parallel-item::after {content: \"\";width: 100%;border-bottom: 1px solid gray;flex-grow: 1;}#sk-container-id-3 div.sk-label:hover label.sk-toggleable__label {background-color: #d4ebff;}#sk-container-id-3 div.sk-serial::before {content: \"\";position: absolute;border-left: 1px solid gray;box-sizing: border-box;top: 0;bottom: 0;left: 50%;z-index: 0;}#sk-container-id-3 div.sk-serial {display: flex;flex-direction: column;align-items: center;background-color: white;padding-right: 0.2em;padding-left: 0.2em;position: relative;}#sk-container-id-3 div.sk-item {position: relative;z-index: 1;}#sk-container-id-3 div.sk-parallel {display: flex;align-items: stretch;justify-content: center;background-color: white;position: relative;}#sk-container-id-3 div.sk-item::before, #sk-container-id-3 div.sk-parallel-item::before {content: \"\";position: absolute;border-left: 1px solid gray;box-sizing: border-box;top: 0;bottom: 0;left: 50%;z-index: -1;}#sk-container-id-3 div.sk-parallel-item {display: flex;flex-direction: column;z-index: 1;position: relative;background-color: white;}#sk-container-id-3 div.sk-parallel-item:first-child::after {align-self: flex-end;width: 50%;}#sk-container-id-3 div.sk-parallel-item:last-child::after {align-self: flex-start;width: 50%;}#sk-container-id-3 div.sk-parallel-item:only-child::after {width: 0;}#sk-container-id-3 div.sk-dashed-wrapped {border: 1px dashed gray;margin: 0 0.4em 0.5em 0.4em;box-sizing: border-box;padding-bottom: 0.4em;background-color: white;}#sk-container-id-3 div.sk-label label {font-family: monospace;font-weight: bold;display: inline-block;line-height: 1.2em;}#sk-container-id-3 div.sk-label-container {text-align: center;}#sk-container-id-3 div.sk-container {/* jupyter's `normalize.less` sets `[hidden] { display: none; }` but bootstrap.min.css set `[hidden] { display: none !important; }` so we also need the `!important` here to be able to override the default hidden behavior on the sphinx rendered scikit-learn.org. See: https://github.com/scikit-learn/scikit-learn/issues/21755 */display: inline-block !important;position: relative;}#sk-container-id-3 div.sk-text-repr-fallback {display: none;}</style><div id=\"sk-container-id-3\" class=\"sk-top-container\"><div class=\"sk-text-repr-fallback\"><pre>KNeighborsRegressor(n_neighbors=3)</pre><b>In a Jupyter environment, please rerun this cell to show the HTML representation or trust the notebook. <br />On GitHub, the HTML representation is unable to render, please try loading this page with nbviewer.org.</b></div><div class=\"sk-container\" hidden><div class=\"sk-item\"><div class=\"sk-estimator sk-toggleable\"><input class=\"sk-toggleable__control sk-hidden--visually\" id=\"sk-estimator-id-3\" type=\"checkbox\" checked><label for=\"sk-estimator-id-3\" class=\"sk-toggleable__label sk-toggleable__label-arrow\">KNeighborsRegressor</label><div class=\"sk-toggleable__content\"><pre>KNeighborsRegressor(n_neighbors=3)</pre></div></div></div></div></div>"
            ],
            "text/plain": [
              "KNeighborsRegressor(n_neighbors=3)"
            ]
          },
          "execution_count": 14,
          "metadata": {},
          "output_type": "execute_result"
        }
      ],
      "source": [
        "# Create a KNN regressior with a specified K-value\n",
        "reg_knn = KNeighborsRegressor(n_neighbors = 3)\n",
        "\n",
        "# Fit the model to the data\n",
        "reg_knn.fit(inputs, target)"
      ]
    },
    {
      "cell_type": "markdown",
      "id": "94b2b5b3",
      "metadata": {
        "id": "94b2b5b3"
      },
      "source": [
        "### Predicting a sample"
      ]
    },
    {
      "cell_type": "code",
      "execution_count": null,
      "id": "bf95a50f",
      "metadata": {
        "id": "bf95a50f",
        "outputId": "74f65518-475f-422a-f991-91652b273108"
      },
      "outputs": [
        {
          "data": {
            "text/plain": [
              "array([-0.51650189])"
            ]
          },
          "execution_count": 15,
          "metadata": {},
          "output_type": "execute_result"
        }
      ],
      "source": [
        "# Set an x-value to a sample whose y-value we aim to predict\n",
        "x_pred = -0.5\n",
        "\n",
        "# Use the fitted model to predict the y-value of the sample\n",
        "y_pred = reg_knn.predict([[x_pred]])\n",
        "\n",
        "# Display the predicted value\n",
        "y_pred"
      ]
    },
    {
      "cell_type": "code",
      "execution_count": null,
      "id": "a4825f0e",
      "metadata": {
        "id": "a4825f0e",
        "outputId": "022acfbe-c351-4dc0-d04b-4eabe01d2746"
      },
      "outputs": [
        {
          "data": {
            "text/plain": [
              "(array([[0.26014535, 0.35632097, 0.46645194]]),\n",
              " array([[8, 3, 0]], dtype=int64))"
            ]
          },
          "execution_count": 16,
          "metadata": {},
          "output_type": "execute_result"
        }
      ],
      "source": [
        "# Store the distance to the three nearest neighbors as well as their indices in the dataset\n",
        "neighbors = reg_knn.kneighbors([[x_pred]])\n",
        "\n",
        "# Display the distanes and the indices\n",
        "neighbors\n",
        "\n",
        "# Output: the first array store the distance to the nearest neighbors\n",
        "# the second array store the indices"
      ]
    },
    {
      "cell_type": "markdown",
      "id": "d8217543",
      "metadata": {
        "id": "d8217543"
      },
      "source": [
        "### Visualizing the neighbors"
      ]
    },
    {
      "cell_type": "code",
      "execution_count": null,
      "id": "fc11fa18",
      "metadata": {
        "id": "fc11fa18",
        "outputId": "bb25b30d-af4b-43d7-d04b-732be2e03aa6"
      },
      "outputs": [
        {
          "data": {
            "image/png": "[encoded data removed]",
            "text/plain": [
              "<Figure size 640x480 with 1 Axes>"
            ]
          },
          "metadata": {},
          "output_type": "display_data"
        }
      ],
      "source": [
        "# Set the seaborn visualization\n",
        "sns.set()\n",
        "\n",
        "# Plot the targets versus the inputs\n",
        "plt.scatter(inputs, target)\n",
        "\n",
        "# Plot the sample point whose y-value we predicted\n",
        "plt.scatter(x_pred, y_pred)\n",
        "\n",
        "# Create two arrays where the x- and y-values of the nearest neighbors will be stored\n",
        "plot_x_train = []\n",
        "plot_y_train = []\n",
        "\n",
        "# Use the indices of the nearest neighbors to fetch their x- and y-values\n",
        "for i in neighbors[1]:\n",
        "    plot_x_train.append(inputs[i])\n",
        "    plot_y_train.append(target[i])\n",
        "\n",
        "# Encircle the nearest neighbors\n",
        "plt.scatter(plot_x_train,\n",
        "            plot_y_train,\n",
        "            s=200, facecolors='none', edgecolors='r');"
      ]
    },
    {
      "cell_type": "markdown",
      "id": "6a8cd084",
      "metadata": {
        "id": "6a8cd084"
      },
      "source": [
        "### Calculating the predicted value"
      ]
    },
    {
      "cell_type": "code",
      "execution_count": null,
      "id": "8ac5ce0f",
      "metadata": {
        "id": "8ac5ce0f",
        "outputId": "98e47929-313c-4c3b-f511-720d2e032bea"
      },
      "outputs": [
        {
          "data": {
            "text/plain": [
              "(0.3288886919385298,\n",
              " -0.5134152746794666,\n",
              " -1.3649790770347563,\n",
              " array([-0.51650189]))"
            ]
          },
          "execution_count": 18,
          "metadata": {},
          "output_type": "execute_result"
        }
      ],
      "source": [
        "# Display the y-values of the neighbors together with the predicted y-value\n",
        "\n",
        "# target[8], y_pred\n",
        "# target[8], target[3], y_pred\n",
        "target[8], target[3], target[0], y_pred\n",
        "\n",
        "# the target[index] chosen from above neighbors output"
      ]
    },
    {
      "cell_type": "code",
      "execution_count": null,
      "id": "3582572b",
      "metadata": {
        "id": "3582572b",
        "outputId": "6956848d-580b-4aa6-bbc8-a1c2f2ac52a0"
      },
      "outputs": [
        {
          "data": {
            "text/plain": [
              "-0.5165018865918977"
            ]
          },
          "execution_count": 19,
          "metadata": {},
          "output_type": "execute_result"
        }
      ],
      "source": [
        "# Find the arithmetic mean of the y-values of the nearest neighbors\n",
        "(target[8] + target[3] + target[0])/3"
      ]
    },
    {
      "cell_type": "code",
      "execution_count": null,
      "id": "0acbbe81",
      "metadata": {
        "id": "0acbbe81"
      },
      "outputs": [],
      "source": []
    }
  ],
  "metadata": {
    "kernelspec": {
      "display_name": "Python 3 (ipykernel)",
      "language": "python",
      "name": "python3"
    },
    "language_info": {
      "codemirror_mode": {
        "name": "ipython",
        "version": 3
      },
      "file_extension": ".py",
      "mimetype": "text/x-python",
      "name": "python",
      "nbconvert_exporter": "python",
      "pygments_lexer": "ipython3",
      "version": "3.8.17"
    },
    "colab": {
      "provenance": [],
      "toc_visible": true,
      "include_colab_link": true
    }
  },
  "nbformat": 4,
  "nbformat_minor": 5
}